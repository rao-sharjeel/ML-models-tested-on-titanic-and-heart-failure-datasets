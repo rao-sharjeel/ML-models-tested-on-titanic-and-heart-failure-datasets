{
 "cells": [
  {
   "cell_type": "code",
   "execution_count": 1,
   "id": "3e30f3c3",
   "metadata": {},
   "outputs": [
    {
     "name": "stdout",
     "output_type": "stream",
     "text": [
      "accuracy:  0.6847826086956522\n",
      "[[55 29]\n",
      " [29 71]]\n",
      "              precision    recall  f1-score   support\n",
      "\n",
      "           0       0.65      0.65      0.65        84\n",
      "           1       0.71      0.71      0.71       100\n",
      "\n",
      "    accuracy                           0.68       184\n",
      "   macro avg       0.68      0.68      0.68       184\n",
      "weighted avg       0.68      0.68      0.68       184\n",
      "\n",
      "time = \n",
      "0.9644262790679932\n"
     ]
    }
   ],
   "source": [
    "import pandas as pd\n",
    "import numpy as np\n",
    "import matplotlib.pyplot as plt\n",
    "%matplotlib inline\n",
    "\n",
    "import time\n",
    "\n",
    "start_time = time.time()\n",
    "\n",
    "heart_data = pd.read_csv(r'C:\\Users\\Rao Sharjeel\\Downloads\\ML assignment\\heart.csv')\n",
    "heart_data.head(80)\n",
    "# heart_data.info()\n",
    "\n",
    "# kill this code after coping\n",
    "heart_data.replace({'Sex':{'M':0,'F':1}, 'ChestPainType':{'ATA':0,'NAP':1,'ASY':2, 'TA':3}, 'RestingECG':{'Normal':0,'ST':1, 'LVH':2}, 'ExerciseAngina':{'N':0, 'Y':2}, 'ST_Slope':{'Up':0,'Flat':1, 'Down':2}}, inplace=True)\n",
    "\n",
    "X = heart_data.drop(columns = ['HeartDisease'],axis=1)\n",
    "y = heart_data['HeartDisease']\n",
    "from sklearn.model_selection import train_test_split\n",
    "X_train, X_test, y_train, y_test = train_test_split(X, y, test_size = 0.20)\n",
    "\n",
    "# from sklearn.svm import SVC\n",
    "from sklearn.neighbors import KNeighborsClassifier\n",
    "# svclassifier = SVC(kernel='linear')\n",
    "neigh = KNeighborsClassifier(n_neighbors=3)\n",
    "# svclassifier.fit(X_train, y_train)\n",
    "neigh.fit(X_train, y_train)\n",
    "\n",
    "# y_pred = svclassifier.predict(X_test)\n",
    "y_pred = neigh.predict(X_test)\n",
    "\n",
    "from sklearn.metrics import classification_report, confusion_matrix\n",
    "from sklearn.metrics import accuracy_score as acc \n",
    "print(\"accuracy: \", acc(y_pred, y_test))\n",
    "print(confusion_matrix(y_test,y_pred))\n",
    "print(classification_report(y_test,y_pred))\n",
    "\n",
    "end_time = time.time() - start_time\n",
    "\n",
    "print(\"time = \")\n",
    "print(end_time)\n"
   ]
  },
  {
   "cell_type": "code",
   "execution_count": null,
   "id": "2c571941",
   "metadata": {},
   "outputs": [],
   "source": []
  }
 ],
 "metadata": {
  "kernelspec": {
   "display_name": "Python 3 (ipykernel)",
   "language": "python",
   "name": "python3"
  },
  "language_info": {
   "codemirror_mode": {
    "name": "ipython",
    "version": 3
   },
   "file_extension": ".py",
   "mimetype": "text/x-python",
   "name": "python",
   "nbconvert_exporter": "python",
   "pygments_lexer": "ipython3",
   "version": "3.8.7"
  }
 },
 "nbformat": 4,
 "nbformat_minor": 5
}
