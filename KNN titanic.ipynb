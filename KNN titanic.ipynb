{
 "cells": [
  {
   "cell_type": "code",
   "execution_count": 2,
   "id": "fb2638f6",
   "metadata": {},
   "outputs": [
    {
     "name": "stdout",
     "output_type": "stream",
     "text": [
      "0    0.0\n",
      "dtype: float64\n",
      "accuracy:  0.7374301675977654\n",
      "[[85 15]\n",
      " [32 47]]\n",
      "              precision    recall  f1-score   support\n",
      "\n",
      "           0       0.73      0.85      0.78       100\n",
      "           1       0.76      0.59      0.67        79\n",
      "\n",
      "    accuracy                           0.74       179\n",
      "   macro avg       0.74      0.72      0.73       179\n",
      "weighted avg       0.74      0.74      0.73       179\n",
      "\n",
      "time = \n",
      "0.04295706748962402\n"
     ]
    }
   ],
   "source": [
    "import pandas as pd\n",
    "import numpy as np\n",
    "import matplotlib.pyplot as plt\n",
    "%matplotlib inline\n",
    "\n",
    "import time\n",
    "\n",
    "start_time = time.time()\n",
    "\n",
    "titanic_data = pd.read_csv(r'C:\\Users\\Rao Sharjeel\\Downloads\\ML assignment\\titanic_train.csv')\n",
    "titanic_data.replace({'Sex':{'male':0,'female':1}, 'Embarked':{'S':0,'C':1,'Q':2}}, inplace=True)\n",
    "\n",
    "\n",
    "titanic_data.isnull().sum()\n",
    "titanic_data = titanic_data.drop(columns='Cabin', axis=1)\n",
    "titanic_data2 = titanic_data.drop(columns='Survived', axis=1)\n",
    "titanic_data['Age'].fillna(titanic_data['Age'].mean(), inplace=True)\n",
    "print(titanic_data['Embarked'].mode())\n",
    "titanic_data['Embarked'].fillna(titanic_data['Embarked'].mode()[0], inplace=True)\n",
    "\n",
    "X = titanic_data.drop(columns = ['PassengerId','Name','Ticket','Survived'],axis=1)\n",
    "y = titanic_data['Survived']\n",
    "from sklearn.model_selection import train_test_split\n",
    "X_train, X_test, y_train, y_test = train_test_split(X, y, test_size = 0.20)\n",
    "\n",
    "# from sklearn.svm import SVC\n",
    "from sklearn.neighbors import KNeighborsClassifier\n",
    "# svclassifier = SVC(kernel='linear')\n",
    "neigh = KNeighborsClassifier(n_neighbors=3)\n",
    "# svclassifier.fit(X_train, y_train)\n",
    "neigh.fit(X_train, y_train)\n",
    "\n",
    "# y_pred = svclassifier.predict(X_test)\n",
    "y_pred = neigh.predict(X_test)\n",
    "\n",
    "from sklearn.metrics import classification_report, confusion_matrix\n",
    "from sklearn.metrics import accuracy_score as acc \n",
    "print(\"accuracy: \", acc(y_pred, y_test))\n",
    "print(confusion_matrix(y_test,y_pred))\n",
    "print(classification_report(y_test,y_pred))\n",
    "\n",
    "end_time = time.time() - start_time\n",
    "\n",
    "print(\"time = \")\n",
    "print(end_time)\n"
   ]
  },
  {
   "cell_type": "code",
   "execution_count": null,
   "id": "70281814",
   "metadata": {},
   "outputs": [],
   "source": []
  }
 ],
 "metadata": {
  "kernelspec": {
   "display_name": "Python 3 (ipykernel)",
   "language": "python",
   "name": "python3"
  },
  "language_info": {
   "codemirror_mode": {
    "name": "ipython",
    "version": 3
   },
   "file_extension": ".py",
   "mimetype": "text/x-python",
   "name": "python",
   "nbconvert_exporter": "python",
   "pygments_lexer": "ipython3",
   "version": "3.8.7"
  }
 },
 "nbformat": 4,
 "nbformat_minor": 5
}
