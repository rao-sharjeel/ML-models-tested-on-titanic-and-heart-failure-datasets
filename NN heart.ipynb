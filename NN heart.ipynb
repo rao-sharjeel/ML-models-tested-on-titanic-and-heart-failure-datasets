{
 "cells": [
  {
   "cell_type": "code",
   "execution_count": 2,
   "id": "94e17bdc",
   "metadata": {},
   "outputs": [
    {
     "name": "stdout",
     "output_type": "stream",
     "text": [
      "accuracy:  0.5652173913043478\n",
      "[[  0  80]\n",
      " [  0 104]]\n",
      "              precision    recall  f1-score   support\n",
      "\n",
      "           0       0.00      0.00      0.00        80\n",
      "           1       0.57      1.00      0.72       104\n",
      "\n",
      "    accuracy                           0.57       184\n",
      "   macro avg       0.28      0.50      0.36       184\n",
      "weighted avg       0.32      0.57      0.41       184\n",
      "\n",
      "time = \n",
      "0.08592104911804199\n"
     ]
    },
    {
     "name": "stderr",
     "output_type": "stream",
     "text": [
      "c:\\users\\rao sharjeel\\appdata\\local\\programs\\python\\python38\\lib\\site-packages\\sklearn\\metrics\\_classification.py:1248: UndefinedMetricWarning: Precision and F-score are ill-defined and being set to 0.0 in labels with no predicted samples. Use `zero_division` parameter to control this behavior.\n",
      "  _warn_prf(average, modifier, msg_start, len(result))\n",
      "c:\\users\\rao sharjeel\\appdata\\local\\programs\\python\\python38\\lib\\site-packages\\sklearn\\metrics\\_classification.py:1248: UndefinedMetricWarning: Precision and F-score are ill-defined and being set to 0.0 in labels with no predicted samples. Use `zero_division` parameter to control this behavior.\n",
      "  _warn_prf(average, modifier, msg_start, len(result))\n",
      "c:\\users\\rao sharjeel\\appdata\\local\\programs\\python\\python38\\lib\\site-packages\\sklearn\\metrics\\_classification.py:1248: UndefinedMetricWarning: Precision and F-score are ill-defined and being set to 0.0 in labels with no predicted samples. Use `zero_division` parameter to control this behavior.\n",
      "  _warn_prf(average, modifier, msg_start, len(result))\n"
     ]
    }
   ],
   "source": [
    "# kill this code after coping\n",
    "\n",
    "import pandas as pd\n",
    "import numpy as np\n",
    "import matplotlib.pyplot as plt\n",
    "%matplotlib inline\n",
    "\n",
    "\n",
    "\n",
    "import time\n",
    "start_time = time.time()\n",
    "\n",
    "heart_data = pd.read_csv(r'C:\\Users\\Rao Sharjeel\\Downloads\\ML assignment\\heart.csv')\n",
    "heart_data.head(80)\n",
    "# heart_data.info()\n",
    "\n",
    "# kill this code after coping\n",
    "heart_data.replace({'Sex':{'M':0,'F':1}, 'ChestPainType':{'ATA':0,'NAP':1,'ASY':2, 'TA':3}, 'RestingECG':{'Normal':0,'ST':1, 'LVH':2}, 'ExerciseAngina':{'N':0, 'Y':2}, 'ST_Slope':{'Up':0,'Flat':1, 'Down':2}}, inplace=True)\n",
    "\n",
    "X = heart_data.drop(columns = ['HeartDisease'],axis=1)\n",
    "y = heart_data['HeartDisease']\n",
    "\n",
    "\n",
    "from sklearn.model_selection import train_test_split\n",
    "X_train, X_test, y_train, y_test = train_test_split(X, y, test_size = 0.20)\n",
    "\n",
    "# from sklearn.svm import SVC\n",
    "from sklearn.neural_network import MLPClassifier\n",
    "# svclassifier = SVC(kernel='linear')\n",
    "\n",
    "clf = MLPClassifier(solver='lbfgs', alpha=1e-5, hidden_layer_sizes=(5, 2), random_state=1)\n",
    "# svclassifier.fit(X_train, y_train)\n",
    "clf.fit(X_train, y_train)\n",
    "# y_pred = svclassifier.predict(X_test)\n",
    "y_pred = clf.predict(X_test)\n",
    "\n",
    "from sklearn.metrics import classification_report, confusion_matrix\n",
    "from sklearn.metrics import accuracy_score as acc \n",
    "print(\"accuracy: \", acc(y_pred, y_test))\n",
    "print(confusion_matrix(y_test,y_pred))\n",
    "print(classification_report(y_test,y_pred))\n",
    "\n",
    "\n",
    "end_time = time.time() - start_time\n",
    "\n",
    "print(\"time = \")\n",
    "print(end_time)"
   ]
  },
  {
   "cell_type": "code",
   "execution_count": null,
   "id": "4c8991dd",
   "metadata": {},
   "outputs": [],
   "source": []
  }
 ],
 "metadata": {
  "kernelspec": {
   "display_name": "Python 3 (ipykernel)",
   "language": "python",
   "name": "python3"
  },
  "language_info": {
   "codemirror_mode": {
    "name": "ipython",
    "version": 3
   },
   "file_extension": ".py",
   "mimetype": "text/x-python",
   "name": "python",
   "nbconvert_exporter": "python",
   "pygments_lexer": "ipython3",
   "version": "3.8.7"
  }
 },
 "nbformat": 4,
 "nbformat_minor": 5
}
